{
 "cells": [
  {
   "cell_type": "code",
   "execution_count": 6,
   "id": "d40c866f-a3bd-4710-ac23-865c59bc4ef4",
   "metadata": {},
   "outputs": [],
   "source": [
    "#Q1. Create a function which will take a list as an argument and return the product of all the numbers\n",
    "# after creating a flat list.\n",
    "# Use the below-given list as an argument for your function.\n",
    "l1 = [1,2,3,4, [44,55,66, True], False, (34,56,78,89,34), {1,2,3,3,2,1}, {1:34, \"key2\": [55, 67, 78, 89], 4: (45,\n",
    "22, 61, 34)}, [56, 'data science'], 'Machine Learning']"
   ]
  },
  {
   "cell_type": "code",
   "execution_count": 13,
   "id": "8aa77d20-fafc-4d9b-b2e0-afe44fa9ee6f",
   "metadata": {},
   "outputs": [],
   "source": [
    "def return_list(k):\n",
    "    l=[]\n",
    "    for i in k:\n",
    "        if type(i)== list or type(i)== tuple or type(i)== set:\n",
    "            for j in i:\n",
    "                if type(j)==int:\n",
    "                    l.append(j)\n",
    "        elif type(i)== int:\n",
    "            l.append(i)\n",
    "        elif type(i)==dict:\n",
    "            for k,v in i.items():\n",
    "                if type(k) == int:\n",
    "                    l.append(k)\n",
    "                if type(v) == int:\n",
    "                    l.append(v)\n",
    "                if type(v) == list or type(v) == tuple or type(v) == set:\n",
    "                    l.extend(return_list(v))\n",
    "    return l"
   ]
  },
  {
   "cell_type": "code",
   "execution_count": 14,
   "id": "b0c4857d-8639-46da-b09a-f7f59fe1d202",
   "metadata": {},
   "outputs": [
    {
     "data": {
      "text/plain": [
       "[1,\n",
       " 2,\n",
       " 3,\n",
       " 4,\n",
       " 44,\n",
       " 55,\n",
       " 66,\n",
       " 34,\n",
       " 56,\n",
       " 78,\n",
       " 89,\n",
       " 34,\n",
       " 1,\n",
       " 2,\n",
       " 3,\n",
       " 1,\n",
       " 34,\n",
       " 55,\n",
       " 67,\n",
       " 78,\n",
       " 89,\n",
       " 4,\n",
       " 45,\n",
       " 22,\n",
       " 61,\n",
       " 34,\n",
       " 56]"
      ]
     },
     "execution_count": 14,
     "metadata": {},
     "output_type": "execute_result"
    }
   ],
   "source": [
    "return_list(l1)"
   ]
  },
  {
   "cell_type": "code",
   "execution_count": 15,
   "id": "049bb0c8-536a-400f-a14f-6c61905b127b",
   "metadata": {},
   "outputs": [],
   "source": [
    "# Q2. Write a python program for encrypting a message sent to you by your friend. The logic of encryption\n",
    "# should be such that, for a the output should be z. For b, the output should be y. For c, the output should\n",
    "# be x respectively. Also, the whitespace should be replaced with a dollar sign. Keep the punctuation\n",
    "# marks unchanged."
   ]
  },
  {
   "cell_type": "code",
   "execution_count": 48,
   "id": "1d3f3b5a-f8d3-4139-93c3-ecbc11f407f6",
   "metadata": {},
   "outputs": [],
   "source": [
    "def encrypt():\n",
    "a=input(\"write msg: \")\n",
    "a=a.lower()\n",
    "s=[]\n",
    "for i in a:\n",
    "    if i>='a' and i<='z':\n",
    "        k = 122 - (ord(i) - 97)\n",
    "        s.append(chr(k))\n",
    "    elif i==\" \":\n",
    "        s.append('$')\n",
    "    else:\n",
    "        s.append(i)"
   ]
  },
  {
   "cell_type": "code",
   "execution_count": 64,
   "id": "bca6677d-3361-4ffd-bd83-da4f6a498291",
   "metadata": {},
   "outputs": [
    {
     "name": "stdout",
     "output_type": "stream",
     "text": [
      "encrypted message is:  ['z', 'i', 'b', '$', 'z', 'm', '!']\n"
     ]
    }
   ],
   "source": [
    "print(\"encrypted message is: \", s)"
   ]
  },
  {
   "cell_type": "code",
   "execution_count": null,
   "id": "095e3e2d-35d3-4ebe-9913-1ce079347bc9",
   "metadata": {},
   "outputs": [],
   "source": []
  }
 ],
 "metadata": {
  "kernelspec": {
   "display_name": "Python 3 (ipykernel)",
   "language": "python",
   "name": "python3"
  },
  "language_info": {
   "codemirror_mode": {
    "name": "ipython",
    "version": 3
   },
   "file_extension": ".py",
   "mimetype": "text/x-python",
   "name": "python",
   "nbconvert_exporter": "python",
   "pygments_lexer": "ipython3",
   "version": "3.10.8"
  }
 },
 "nbformat": 4,
 "nbformat_minor": 5
}
