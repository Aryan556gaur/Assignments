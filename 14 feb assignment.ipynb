{
 "cells": [
  {
   "cell_type": "code",
   "execution_count": 1,
   "id": "6bdadde6-95c9-45c0-ab66-face5235209a",
   "metadata": {},
   "outputs": [],
   "source": [
    "#Q1. What is multithreading in python? why is it used? Name the module used to handle threads in python."
   ]
  },
  {
   "cell_type": "code",
   "execution_count": 2,
   "id": "46573b18-e997-4303-af2c-5bfe5525536b",
   "metadata": {},
   "outputs": [],
   "source": [
    "# Multithreading is the ability of a program or an operating system to enable more than one user at a time without requiring multiple copies of the program running\n",
    "# it is used to make multiples threads in a single process.\n",
    "# threading"
   ]
  },
  {
   "cell_type": "code",
   "execution_count": 3,
   "id": "9dd428dc-9beb-4f5d-ae37-f2b14b8d4315",
   "metadata": {},
   "outputs": [],
   "source": [
    "# Q2. Why threading module used? Write the use of the following functions\n",
    "#  activeCount()\n",
    "#  currentThread()\n",
    "#  enumerate()"
   ]
  },
  {
   "cell_type": "code",
   "execution_count": 4,
   "id": "4fddf0d3-a6e0-49aa-a8b1-c02f410429ad",
   "metadata": {},
   "outputs": [],
   "source": [
    "# The threading module in Python is used for concurrent execution of multiple threads within a single process\n",
    "    # activeCount(): This function returns the number of thread objects that are currently alive\n",
    "    # currentThread(): This function returns a reference to the current thread object.\n",
    "    # enumerate(): This function returns a list of all thread objects that are currently alive."
   ]
  },
  {
   "cell_type": "code",
   "execution_count": 5,
   "id": "eed92ecf-0863-4865-ba0a-2a2ca5edeaf6",
   "metadata": {},
   "outputs": [],
   "source": [
    "# Q3. Explain the following functions\n",
    "#  run()\n",
    "#  start()\n",
    "#  join()\n",
    "#  isAlive()"
   ]
  },
  {
   "cell_type": "code",
   "execution_count": null,
   "id": "75a15d7b-c078-42c0-9add-a95b3cbf002e",
   "metadata": {},
   "outputs": [],
   "source": [
    "# run(): The run() method is a standard method in Python that is used to define the actions that the thread will execute when it is started. This method is called automatically when a thread is started using the start() method. You should override this method in your custom thread class to define the behavior of your thread.\n",
    "\n",
    "# start(): The start() method is used to start a new thread of execution. When you call this method on a thread object, a new thread is created and the run() method of the thread is executed in that new thread. The thread will continue to run until it completes its execution or is stopped using the join() method.\n",
    "\n",
    "# join(): The join() method is used to wait for a thread to complete its execution. When you call this method on a thread object, the current thread will block until the thread being joined completes its execution. This method is useful when you want to synchronize the execution of multiple threads.\n",
    "\n",
    "# isAlive(): The isAlive() method is used to check whether a thread is currently executing or not. When you call this method on a thread object, it returns True if the thread is currently running or False otherwise. This method can be useful when you want to check the status of a thread before performing some action."
   ]
  },
  {
   "cell_type": "code",
   "execution_count": 6,
   "id": "5407e987-3599-4148-9edf-70c310dd326c",
   "metadata": {},
   "outputs": [],
   "source": [
    "# Q4. Write a python program to create two threads. Thread one must print the list of squares and thread\n",
    "# two must print the list of cubes."
   ]
  },
  {
   "cell_type": "code",
   "execution_count": 18,
   "id": "0988f814-bcfb-42e9-855a-052af9db10ef",
   "metadata": {},
   "outputs": [],
   "source": [
    "def display(n, a):\n",
    "    print(n**a)"
   ]
  },
  {
   "cell_type": "code",
   "execution_count": 19,
   "id": "0300c9e4-d8c2-49e7-8a7a-c10781e6ae2d",
   "metadata": {},
   "outputs": [],
   "source": [
    "import threading"
   ]
  },
  {
   "cell_type": "code",
   "execution_count": 20,
   "id": "35d63a2f-0562-4dcc-8c5f-febff0391dd5",
   "metadata": {},
   "outputs": [],
   "source": [
    "thread1 = [threading.Thread(target = display, args = (i, 2)) for i in range(1,10)]"
   ]
  },
  {
   "cell_type": "code",
   "execution_count": 21,
   "id": "d17d08fe-248b-437f-8f2b-5347d922b13d",
   "metadata": {},
   "outputs": [
    {
     "name": "stdout",
     "output_type": "stream",
     "text": [
      "1\n",
      "4\n",
      "9\n",
      "16\n",
      "25\n",
      "36\n",
      "49\n",
      "64\n",
      "81\n"
     ]
    }
   ],
   "source": [
    "for t in thread1:\n",
    "    t.start()"
   ]
  },
  {
   "cell_type": "code",
   "execution_count": 22,
   "id": "de7684de-ec6c-4e4a-b53f-7dfb0795fe25",
   "metadata": {},
   "outputs": [],
   "source": [
    "thread2 = [threading.Thread(target = display, args = (i, 3)) for i in range(1,10)]"
   ]
  },
  {
   "cell_type": "code",
   "execution_count": 23,
   "id": "12064975-ce43-4712-95ca-6d8ecd877b3a",
   "metadata": {},
   "outputs": [
    {
     "name": "stdout",
     "output_type": "stream",
     "text": [
      "1\n",
      "8\n",
      "27\n",
      "64\n",
      "125\n",
      "216\n",
      "343\n",
      "512\n",
      "729\n"
     ]
    }
   ],
   "source": [
    "for t in thread2:\n",
    "    t.start()"
   ]
  },
  {
   "cell_type": "code",
   "execution_count": 2,
   "id": "a12d07e9-33ef-4db3-b114-cb494acf6eb0",
   "metadata": {},
   "outputs": [],
   "source": [
    "# Q5. State advantages and disadvantages of multithreading."
   ]
  },
  {
   "cell_type": "code",
   "execution_count": 3,
   "id": "1d76461b-d0b7-4da2-83cf-47430bed22e0",
   "metadata": {},
   "outputs": [],
   "source": [
    "#advantage:\n",
    "#    Multithreading in Python allows the concurrent and parallel occurrence of various tasks.\n",
    "#disadvantage:\n",
    "#\tDifficulty of writing code. Multithreaded and multicontexted applications are not easy to write."
   ]
  },
  {
   "cell_type": "code",
   "execution_count": 5,
   "id": "a3c6fdec-7e04-4fa4-886f-18761df4fc77",
   "metadata": {},
   "outputs": [],
   "source": [
    "# Q6. Explain deadlocks and race conditions."
   ]
  },
  {
   "cell_type": "code",
   "execution_count": null,
   "id": "edefe1c2-5f6b-4bee-983a-f721595b7c42",
   "metadata": {},
   "outputs": [],
   "source": [
    "# A race condition occurs when two threads use the same variable at a given time. \n",
    "# Deadlock exists when two threads seek one lock simultaneously"
   ]
  }
 ],
 "metadata": {
  "kernelspec": {
   "display_name": "Python 3 (ipykernel)",
   "language": "python",
   "name": "python3"
  },
  "language_info": {
   "codemirror_mode": {
    "name": "ipython",
    "version": 3
   },
   "file_extension": ".py",
   "mimetype": "text/x-python",
   "name": "python",
   "nbconvert_exporter": "python",
   "pygments_lexer": "ipython3",
   "version": "3.10.8"
  }
 },
 "nbformat": 4,
 "nbformat_minor": 5
}
