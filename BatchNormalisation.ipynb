{
  "nbformat": 4,
  "nbformat_minor": 0,
  "metadata": {
    "colab": {
      "provenance": [],
      "gpuType": "T4",
      "authorship_tag": "ABX9TyNxr//XNYqgxGpWA4XUpPIX",
      "include_colab_link": true
    },
    "kernelspec": {
      "name": "python3",
      "display_name": "Python 3"
    },
    "language_info": {
      "name": "python"
    },
    "accelerator": "GPU"
  },
  "cells": [
    {
      "cell_type": "markdown",
      "metadata": {
        "id": "view-in-github",
        "colab_type": "text"
      },
      "source": [
        "<a href=\"https://colab.research.google.com/github/Aryan556gaur/map-reduce-filter/blob/main/BatchNormalisation.ipynb\" target=\"_parent\"><img src=\"https://colab.research.google.com/assets/colab-badge.svg\" alt=\"Open In Colab\"/></a>"
      ]
    },
    {
      "cell_type": "code",
      "source": [
        "import tensorflow as tf\n",
        "\n",
        "print(tf.config.list_physical_devices('GPU'))\n",
        "print(tf.config.list_physical_devices('CPU'))"
      ],
      "metadata": {
        "id": "8ZA01CiMtECj",
        "colab": {
          "base_uri": "https://localhost:8080/"
        },
        "outputId": "14397463-aa9e-4b19-c44e-d5b222dfcf9b"
      },
      "execution_count": 7,
      "outputs": [
        {
          "output_type": "stream",
          "name": "stdout",
          "text": [
            "[PhysicalDevice(name='/physical_device:GPU:0', device_type='GPU')]\n",
            "[PhysicalDevice(name='/physical_device:CPU:0', device_type='CPU')]\n"
          ]
        }
      ]
    },
    {
      "cell_type": "code",
      "source": [
        "mnist = tf.keras.datasets.mnist\n",
        "\n",
        "(x_train,y_train), (x_test,y_test) = mnist.load_data()"
      ],
      "metadata": {
        "id": "SldapdmJBlBL"
      },
      "execution_count": 8,
      "outputs": []
    },
    {
      "cell_type": "code",
      "source": [
        "class MNISTmodel(tf.keras.Model):\n",
        "  def __init__(self, num_classes=10):\n",
        "    super(MNISTmodel, self).__init__()\n",
        "    self.flatten = tf.keras.layers.Flatten()\n",
        "    self.dense = tf.keras.layers.Dense(512, activation=\"relu\", name=\"d1\")\n",
        "    self.drop = tf.keras.layers.Dropout(0.2)\n",
        "    self.prediction = tf.keras.layers.Dense(10, activation=\"softmax\", name=\"d2\")\n",
        "\n",
        "  def call(self, inputs):\n",
        "    x = self.flatten(inputs)\n",
        "    x = self.dense(x)\n",
        "    x = self.drop(x)\n",
        "    return self.prediction(x)\n",
        "\n",
        "mnist_model = MNISTmodel()\n",
        "\n",
        "batch_size = 32\n",
        "steps_per_epoch = len(x_train)//batch_size\n",
        "print(steps_per_epoch)\n",
        "mnist_model.compile (optimizer= tf.keras.optimizers.Adam(), loss='sparse_categorical_crossentropy',metrics = ['accuracy'])\n",
        "mnist_model.fit(x_train, y_train, batch_size=32, epochs=10)\n",
        "\n",
        "mnist_model.evaluate(x_test, y_test)"
      ],
      "metadata": {
        "id": "u2a0hcRNPRBH",
        "colab": {
          "base_uri": "https://localhost:8080/"
        },
        "outputId": "d452fbb2-da7f-4a5a-a3de-534fb9945e32"
      },
      "execution_count": 9,
      "outputs": [
        {
          "output_type": "stream",
          "name": "stdout",
          "text": [
            "1875\n",
            "Epoch 1/10\n",
            "1875/1875 [==============================] - 6s 3ms/step - loss: 2.9038 - accuracy: 0.8795\n",
            "Epoch 2/10\n",
            "1875/1875 [==============================] - 5s 3ms/step - loss: 0.4345 - accuracy: 0.9060\n",
            "Epoch 3/10\n",
            "1875/1875 [==============================] - 5s 3ms/step - loss: 0.4071 - accuracy: 0.9111\n",
            "Epoch 4/10\n",
            "1875/1875 [==============================] - 6s 3ms/step - loss: 0.3885 - accuracy: 0.9145\n",
            "Epoch 5/10\n",
            "1875/1875 [==============================] - 5s 3ms/step - loss: 0.3715 - accuracy: 0.9182\n",
            "Epoch 6/10\n",
            "1875/1875 [==============================] - 6s 3ms/step - loss: 0.3491 - accuracy: 0.9216\n",
            "Epoch 7/10\n",
            "1875/1875 [==============================] - 5s 3ms/step - loss: 0.3345 - accuracy: 0.9265\n",
            "Epoch 8/10\n",
            "1875/1875 [==============================] - 6s 3ms/step - loss: 0.3263 - accuracy: 0.9271\n",
            "Epoch 9/10\n",
            "1875/1875 [==============================] - 5s 3ms/step - loss: 0.3247 - accuracy: 0.9294\n",
            "Epoch 10/10\n",
            "1875/1875 [==============================] - 5s 3ms/step - loss: 0.3289 - accuracy: 0.9308\n",
            "313/313 [==============================] - 1s 2ms/step - loss: 0.3098 - accuracy: 0.9469\n"
          ]
        },
        {
          "output_type": "execute_result",
          "data": {
            "text/plain": [
              "[0.3098161518573761, 0.9469000101089478]"
            ]
          },
          "metadata": {},
          "execution_count": 9
        }
      ]
    },
    {
      "cell_type": "code",
      "source": [
        "from keras.layers.normalization.batch_normalization import BatchNormalization\n",
        "class MNISTmodel(tf.keras.Model):\n",
        "  def __init__(self, num_classes=10):\n",
        "    super(MNISTmodel, self).__init__()\n",
        "    self.flatten = tf.keras.layers.Flatten()\n",
        "    self.dense = tf.keras.layers.Dense(512, activation=\"relu\", name=\"d1\")\n",
        "    self.drop = tf.keras.layers.Dropout(0.2)\n",
        "    BatchNormalization()\n",
        "    self.prediction = tf.keras.layers.Dense(10, activation=\"softmax\", name=\"d2\")\n",
        "\n",
        "  def call(self, inputs):\n",
        "    x = self.flatten(inputs)\n",
        "    x = self.dense(x)\n",
        "    x = self.drop(x)\n",
        "    return self.prediction(x)\n",
        "\n",
        "mnist_model = MNISTmodel()\n",
        "\n",
        "batch_size = 32\n",
        "steps_per_epoch = len(x_train)//batch_size\n",
        "print(steps_per_epoch)\n",
        "mnist_model.compile (optimizer= tf.keras.optimizers.Adam(), loss='sparse_categorical_crossentropy',metrics = ['accuracy'])\n",
        "mnist_model.fit(x_train, y_train, batch_size=32, epochs=10)\n",
        "\n",
        "mnist_model.evaluate(x_test, y_test)"
      ],
      "metadata": {
        "colab": {
          "base_uri": "https://localhost:8080/"
        },
        "id": "wXW1MyDXQ_9L",
        "outputId": "c3c9f253-8359-4c55-8d14-96c4e1ce2a70"
      },
      "execution_count": 10,
      "outputs": [
        {
          "output_type": "stream",
          "name": "stdout",
          "text": [
            "1875\n",
            "Epoch 1/10\n",
            "1875/1875 [==============================] - 7s 3ms/step - loss: 2.8033 - accuracy: 0.8777\n",
            "Epoch 2/10\n",
            "1875/1875 [==============================] - 5s 3ms/step - loss: 0.4439 - accuracy: 0.9062\n",
            "Epoch 3/10\n",
            "1875/1875 [==============================] - 6s 3ms/step - loss: 0.4138 - accuracy: 0.9119\n",
            "Epoch 4/10\n",
            "1875/1875 [==============================] - 5s 3ms/step - loss: 0.3866 - accuracy: 0.9155\n",
            "Epoch 5/10\n",
            "1875/1875 [==============================] - 6s 3ms/step - loss: 0.3761 - accuracy: 0.9200\n",
            "Epoch 6/10\n",
            "1875/1875 [==============================] - 6s 3ms/step - loss: 0.3292 - accuracy: 0.9251\n",
            "Epoch 7/10\n",
            "1875/1875 [==============================] - 5s 3ms/step - loss: 0.3362 - accuracy: 0.9275\n",
            "Epoch 8/10\n",
            "1875/1875 [==============================] - 6s 3ms/step - loss: 0.3354 - accuracy: 0.9299\n",
            "Epoch 9/10\n",
            "1875/1875 [==============================] - 5s 3ms/step - loss: 0.3288 - accuracy: 0.9329\n",
            "Epoch 10/10\n",
            "1875/1875 [==============================] - 6s 3ms/step - loss: 0.3061 - accuracy: 0.9353\n",
            "313/313 [==============================] - 1s 2ms/step - loss: 0.2813 - accuracy: 0.9502\n"
          ]
        },
        {
          "output_type": "execute_result",
          "data": {
            "text/plain": [
              "[0.28134164214134216, 0.9502000212669373]"
            ]
          },
          "metadata": {},
          "execution_count": 10
        }
      ]
    },
    {
      "cell_type": "markdown",
      "source": [
        "### **Batch normalization helps stabilize and accelerate the training of neural networks. It normalizes the activations of each layer, reducing the internal covariate shift and allowing for faster convergence. This can lead to faster training, better generalization, and potentially improved performance on validation and test datasets.**\n",
        "### **The model with batch normalization may show better validation accuracy and faster convergence compared to the model without batch normalization**"
      ],
      "metadata": {
        "id": "e--nFIQ6UWvO"
      }
    }
  ]
}