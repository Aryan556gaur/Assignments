{
 "cells": [
  {
   "cell_type": "code",
   "execution_count": 1,
   "id": "8fb5ca44-5c13-4448-8f23-1da3600b7f2e",
   "metadata": {},
   "outputs": [],
   "source": [
    "#Q1. What is an Exception in python? Write the difference between Exceptions and syntax errors."
   ]
  },
  {
   "cell_type": "code",
   "execution_count": 2,
   "id": "1d047f44-c4bc-4a83-9a39-7c13685033d7",
   "metadata": {},
   "outputs": [],
   "source": [
    "#An syntax error is an issue in a program that prevents the program from completing its task. In comparison, an exception is a condition that interrupts the normal flow of the program."
   ]
  },
  {
   "cell_type": "code",
   "execution_count": 3,
   "id": "01a8453d-a7e2-41d9-971a-422255ae7b06",
   "metadata": {},
   "outputs": [],
   "source": [
    "#Q2. What happens when an exception is not handled? Explain with an example."
   ]
  },
  {
   "cell_type": "code",
   "execution_count": 4,
   "id": "265b3fda-86f5-4b5d-bdf6-d4669d7201d5",
   "metadata": {},
   "outputs": [],
   "source": [
    "#If an exception is not handeled, the runtime system will abort the program (i.e. crash) and an exception message will print to the console."
   ]
  },
  {
   "cell_type": "code",
   "execution_count": 1,
   "id": "3ef55da7-8fde-4878-950a-b18cda8952a0",
   "metadata": {},
   "outputs": [],
   "source": [
    "#Q3. Which Python statements are used to catch and handle exceptions? Explain with an example."
   ]
  },
  {
   "cell_type": "code",
   "execution_count": 5,
   "id": "87fd3356-b620-41aa-a043-8831efb32168",
   "metadata": {},
   "outputs": [
    {
     "name": "stdout",
     "output_type": "stream",
     "text": [
      "The error: [Errno 2] No such file or directory: 'new.txt'\n"
     ]
    }
   ],
   "source": [
    "#try and except Block\n",
    "\n",
    "#example\n",
    "try:\n",
    "    f=open(\"new.txt\", 'r')\n",
    "    f.close()\n",
    "except Exception as e:\n",
    "    print(\"The error:\",e)"
   ]
  },
  {
   "cell_type": "code",
   "execution_count": 1,
   "id": "07f845a3-572c-41bb-9975-18fa3c00289e",
   "metadata": {},
   "outputs": [],
   "source": [
    "# Q4. Explain with an examples:\n",
    "#      try and else\n",
    "#      finally\n",
    "#      raise"
   ]
  },
  {
   "cell_type": "code",
   "execution_count": 11,
   "id": "c047c292-78c7-4dff-a9a0-34ff9643eb7e",
   "metadata": {},
   "outputs": [
    {
     "name": "stdout",
     "output_type": "stream",
     "text": [
      "this else is only executed if there is no error\n"
     ]
    }
   ],
   "source": [
    "try:\n",
    "    f=open(\"new1.txt\", 'w')\n",
    "    f.close()\n",
    "except Exception as e:\n",
    "    print(\"The error:\",e)\n",
    "else:\n",
    "    print(\"this else is only executed if there is no error\")"
   ]
  },
  {
   "cell_type": "code",
   "execution_count": 13,
   "id": "1ea7e7db-0238-4459-89df-0ca41ef20b72",
   "metadata": {},
   "outputs": [
    {
     "name": "stdout",
     "output_type": "stream",
     "text": [
      "statements in finally will be executed in every condition\n"
     ]
    }
   ],
   "source": [
    "try:\n",
    "    f=open(\"new1.txt\", 'w')\n",
    "    f.close()\n",
    "except Exception as e:\n",
    "    print(\"The error:\",e)\n",
    "finally:\n",
    "    print(\"statements in finally will be executed in every condition\")"
   ]
  },
  {
   "cell_type": "code",
   "execution_count": 15,
   "id": "ee6b6228-db70-435b-b66f-1c6b5d1c9be9",
   "metadata": {},
   "outputs": [],
   "source": [
    "class validage(Exception):\n",
    "    \n",
    "    def __init__(self, msg):\n",
    "        self.msg = msg"
   ]
  },
  {
   "cell_type": "code",
   "execution_count": 17,
   "id": "0013e3b1-a532-4d86-8f45-b4a1b4e9a921",
   "metadata": {},
   "outputs": [],
   "source": [
    "def validateage():\n",
    "    a=int(input(\"age: \"))\n",
    "    if a<0 or a>200:\n",
    "        raise validage(\"invalid age\")\n",
    "    else:\n",
    "        print(a)"
   ]
  },
  {
   "cell_type": "code",
   "execution_count": 23,
   "id": "e2fc98a6-dcff-4b70-97c8-ff3200857243",
   "metadata": {},
   "outputs": [
    {
     "name": "stdin",
     "output_type": "stream",
     "text": [
      "age:  -2\n"
     ]
    },
    {
     "name": "stdout",
     "output_type": "stream",
     "text": [
      "raise statement raised a custom error here\n"
     ]
    }
   ],
   "source": [
    "try:\n",
    "    validateage()\n",
    "except validage as e:\n",
    "    print(\"raise statement raised a custom error here\")"
   ]
  },
  {
   "cell_type": "code",
   "execution_count": 1,
   "id": "d675779a-71d3-43c3-a00c-45d40ff402ae",
   "metadata": {},
   "outputs": [],
   "source": [
    "#Q5. what are custom Exceptions in python? Why do .we need custom Exceptions? Explain with an example"
   ]
  },
  {
   "cell_type": "code",
   "execution_count": 2,
   "id": "7e129ded-b667-46ab-bba3-f8b964aa5d2c",
   "metadata": {},
   "outputs": [],
   "source": [
    "#These are user defined errors refering to a class. we saw their requirement and use in above example."
   ]
  },
  {
   "cell_type": "code",
   "execution_count": 3,
   "id": "14f48dfa-ad95-4ac1-87ec-3737472a6786",
   "metadata": {},
   "outputs": [],
   "source": [
    "#Create a custom exception class. Use this class to handle an exception."
   ]
  },
  {
   "cell_type": "code",
   "execution_count": 2,
   "id": "5756ae94-bbf6-4f93-b201-09c5f31e45c8",
   "metadata": {},
   "outputs": [],
   "source": [
    "class valid_name(Exception):\n",
    "    \n",
    "    def __init__(self, msg, invalid_chars):\n",
    "        self.msg = msg\n",
    "        self.invalid_chars = invalid_chars"
   ]
  },
  {
   "cell_type": "code",
   "execution_count": 3,
   "id": "73bc6c95-4631-4f1b-8b85-a48db30fb020",
   "metadata": {},
   "outputs": [],
   "source": [
    "def validate_name(a):\n",
    "    invalid_chars = []\n",
    "    for i in a:\n",
    "        if i>='a' and i<='z':\n",
    "            pass\n",
    "        elif i>='A' and i<='Z':\n",
    "            pass\n",
    "        else:\n",
    "            invalid_chars.append(i)\n",
    "    if len(invalid_chars)==0:\n",
    "        print(\"valid name\")\n",
    "    else:\n",
    "        raise valid_name(\"invalid name\", invalid_chars)"
   ]
  },
  {
   "cell_type": "code",
   "execution_count": null,
   "id": "0ed9fa1d-28dc-422d-b9a5-3981cf324895",
   "metadata": {},
   "outputs": [],
   "source": [
    "try:\n",
    "    a=input(\"name: \")\n",
    "    validate_name(a)\n",
    "except valid_name as e:\n",
    "    print(e.msg)\n",
    "    for invalid_char in e.invalid_chars:\n",
    "        print(\"invalid characters\", invalid_char)"
   ]
  },
  {
   "cell_type": "code",
   "execution_count": null,
   "id": "0e4dc98c-0cd0-45ee-a033-b73572f44715",
   "metadata": {},
   "outputs": [],
   "source": []
  }
 ],
 "metadata": {
  "kernelspec": {
   "display_name": "Python 3 (ipykernel)",
   "language": "python",
   "name": "python3"
  },
  "language_info": {
   "codemirror_mode": {
    "name": "ipython",
    "version": 3
   },
   "file_extension": ".py",
   "mimetype": "text/x-python",
   "name": "python",
   "nbconvert_exporter": "python",
   "pygments_lexer": "ipython3",
   "version": "3.10.8"
  }
 },
 "nbformat": 4,
 "nbformat_minor": 5
}
