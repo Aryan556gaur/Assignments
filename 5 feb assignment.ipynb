{
 "cells": [
  {
   "cell_type": "code",
   "execution_count": 3,
   "id": "5cad51d8-41d2-4c97-a89c-f826ced3cc83",
   "metadata": {},
   "outputs": [],
   "source": [
    "#Q1. Explain Class and Object with respect to Object-Oriented Programming. Give a suitable example."
   ]
  },
  {
   "cell_type": "code",
   "execution_count": null,
   "id": "215cd311-9802-4c99-b2d3-9d12eaebe0b4",
   "metadata": {},
   "outputs": [],
   "source": [
    "# A Class in object oriented programming is a blueprint or prototype that defines the variables and the methods (functions) common to all Objects. \n",
    "# An object in OOPS is a specimen of a class. Software objects are often used to model real-world objects you find in everyday life.\n",
    "#example: car is class and it'specifications are variables and car name is object."
   ]
  },
  {
   "cell_type": "code",
   "execution_count": 1,
   "id": "0e2bf263-865b-46e9-99b7-2579ef7c1dc9",
   "metadata": {},
   "outputs": [],
   "source": [
    "#Q2. Name the four pillars of OOPs."
   ]
  },
  {
   "cell_type": "code",
   "execution_count": 2,
   "id": "4e9ac3ca-075b-47f9-8495-16d48edd586c",
   "metadata": {},
   "outputs": [],
   "source": [
    "#encapsulation, abstraction, inheritance, polymorphism"
   ]
  },
  {
   "cell_type": "code",
   "execution_count": 3,
   "id": "b6823150-4818-47d1-8758-7e7956a829c5",
   "metadata": {},
   "outputs": [],
   "source": [
    "#Q3. Explain why the __init__() function is used. Give a suitable example."
   ]
  },
  {
   "cell_type": "code",
   "execution_count": 11,
   "id": "fe8c1b70-9721-43eb-bc3c-00d463b05c29",
   "metadata": {},
   "outputs": [],
   "source": [
    "class student:\n",
    "    def __init__(self, age, name):\n",
    "        self.age1=age\n",
    "        self.name1=name\n",
    "    def return_info(self):\n",
    "        return self.age1, self.name1\n"
   ]
  },
  {
   "cell_type": "code",
   "execution_count": 12,
   "id": "24b22970-56f5-4277-b657-b8ead14067a9",
   "metadata": {},
   "outputs": [],
   "source": [
    "aryan = student(19, \"aryan\")"
   ]
  },
  {
   "cell_type": "code",
   "execution_count": 13,
   "id": "b1b6eeee-3e10-4588-a1e9-00fc121548b1",
   "metadata": {},
   "outputs": [
    {
     "data": {
      "text/plain": [
       "(19, 'aryan')"
      ]
     },
     "execution_count": 13,
     "metadata": {},
     "output_type": "execute_result"
    }
   ],
   "source": [
    "aryan.return_info()"
   ]
  },
  {
   "cell_type": "code",
   "execution_count": 1,
   "id": "72f6e299-f2d9-4450-9a1f-16cc38e6e174",
   "metadata": {},
   "outputs": [],
   "source": [
    "#Q4. Why self is used in OOPs?"
   ]
  },
  {
   "cell_type": "code",
   "execution_count": 2,
   "id": "d96a7cc4-8070-4159-8068-aeb175cea596",
   "metadata": {},
   "outputs": [],
   "source": [
    "#Since the class is just a blueprint, self allows access to the attributes and methods of each object in python. \n",
    "#This allows each object to have its own attributes and methods."
   ]
  },
  {
   "cell_type": "code",
   "execution_count": null,
   "id": "9d221f4c-5cb1-47b1-bacf-2ee441feba2f",
   "metadata": {},
   "outputs": [],
   "source": [
    "#Q5. What is inheritance? Give an example for each type of inheritance."
   ]
  },
  {
   "cell_type": "code",
   "execution_count": null,
   "id": "a4bdff21-740c-437c-8310-3955bb0cc590",
   "metadata": {},
   "outputs": [],
   "source": [
    "#Inheritance is a mechanism of acquiring the features and behaviors of a class by another class.\n",
    "#types are: \n",
    "#Single inheritance  #Multi-level inheritance  $Multiple inheritance  Multipath inheritance  Hierarchical Inheritance  Hybrid Inheritance"
   ]
  }
 ],
 "metadata": {
  "kernelspec": {
   "display_name": "Python 3 (ipykernel)",
   "language": "python",
   "name": "python3"
  },
  "language_info": {
   "codemirror_mode": {
    "name": "ipython",
    "version": 3
   },
   "file_extension": ".py",
   "mimetype": "text/x-python",
   "name": "python",
   "nbconvert_exporter": "python",
   "pygments_lexer": "ipython3",
   "version": "3.10.8"
  }
 },
 "nbformat": 4,
 "nbformat_minor": 5
}
