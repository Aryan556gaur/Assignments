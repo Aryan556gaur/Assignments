{
 "cells": [
  {
   "cell_type": "code",
   "execution_count": 115,
   "id": "00ce80f0-431f-4d61-be66-ec646036da4f",
   "metadata": {},
   "outputs": [],
   "source": [
    "class aryan:\n",
    "    def __init__(self, name, age):\n",
    "        self.__name=name\n",
    "        self.__age=age\n",
    "        \n",
    "    @staticmethod\n",
    "    def get():\n",
    "        print(\"is it\")\n",
    "        \n",
    "    @classmethod\n",
    "    def hehe(cls):\n",
    "        print(\"hehe\")\n",
    "        \n",
    "    @property\n",
    "    def name_access(self):\n",
    "        return self.__name\n",
    "    @name_access.setter\n",
    "    def set_it(self, a=\"gaur\") :\n",
    "        self.__name = a"
   ]
  },
  {
   "cell_type": "code",
   "execution_count": 116,
   "id": "a5ed5584-b22c-4ab0-8194-7f72b50c3dcc",
   "metadata": {},
   "outputs": [
    {
     "name": "stdout",
     "output_type": "stream",
     "text": [
      "is it\n"
     ]
    }
   ],
   "source": [
    "aryan.get()"
   ]
  },
  {
   "cell_type": "code",
   "execution_count": 117,
   "id": "d12864ae-486f-47e9-a185-36a9c11d31ed",
   "metadata": {},
   "outputs": [],
   "source": [
    "obj=aryan(\"aryan\", 19)"
   ]
  },
  {
   "cell_type": "code",
   "execution_count": 118,
   "id": "0fa0dd37-709e-478a-9a0e-528d1ec11003",
   "metadata": {},
   "outputs": [
    {
     "name": "stdout",
     "output_type": "stream",
     "text": [
      "hehe\n"
     ]
    }
   ],
   "source": [
    "obj.hehe()"
   ]
  },
  {
   "cell_type": "code",
   "execution_count": 119,
   "id": "ce27f68e-ff8b-4d07-98ad-b81ef71053e8",
   "metadata": {},
   "outputs": [
    {
     "name": "stdout",
     "output_type": "stream",
     "text": [
      "hehe\n"
     ]
    }
   ],
   "source": [
    "aryan.hehe()"
   ]
  },
  {
   "cell_type": "code",
   "execution_count": 120,
   "id": "4e2eecf1-0367-4294-80c3-7e27113ad629",
   "metadata": {},
   "outputs": [
    {
     "data": {
      "text/plain": [
       "'aryan'"
      ]
     },
     "execution_count": 120,
     "metadata": {},
     "output_type": "execute_result"
    }
   ],
   "source": [
    "obj.name_access"
   ]
  },
  {
   "cell_type": "code",
   "execution_count": 127,
   "id": "1f3c34d6-f4e8-4c23-845e-318b915c843e",
   "metadata": {},
   "outputs": [],
   "source": [
    "obj.set_it=0"
   ]
  },
  {
   "cell_type": "code",
   "execution_count": 128,
   "id": "c27fb4f6-54d1-48d3-a0b2-23c137d771f6",
   "metadata": {},
   "outputs": [
    {
     "data": {
      "text/plain": [
       "0"
      ]
     },
     "execution_count": 128,
     "metadata": {},
     "output_type": "execute_result"
    }
   ],
   "source": [
    "obj.name_access"
   ]
  },
  {
   "cell_type": "code",
   "execution_count": 129,
   "id": "6eaa05d8-1c5a-4bdb-8b59-0a00162a73a9",
   "metadata": {},
   "outputs": [],
   "source": [
    "#Q1. Which function is used to open a file? What are the different modes of opening a file? Explain each mode of file opening."
   ]
  },
  {
   "cell_type": "code",
   "execution_count": 1,
   "id": "5799f3a1-c28d-4231-98c8-ce4090536357",
   "metadata": {},
   "outputs": [],
   "source": [
    "# In Python, the built-in function used to open a file is open(). The open() function takes two arguments: the file name (including the path if the file is not in the current working directory) and the mode in which to open the file.\n",
    "\n",
    "# There are several modes of opening a file:\n",
    "\n",
    "# \"r\" (Read Mode): This is the default mode in which a file is opened. In this mode, the file is opened for reading only, and the file pointer is positioned at the beginning of the file. If the file does not exist, the open() function will raise a FileNotFoundError exception.\n",
    "\n",
    "# \"w\" (Write Mode): In this mode, the file is opened for writing only. If the file already exists, its contents are truncated. If the file does not exist, a new file is created.\n",
    "\n",
    "# \"a\" (Append Mode): In this mode, the file is opened for writing, but any data written to the file is appended to the end of the file instead of overwriting existing data. If the file does not exist, a new file is created.\n",
    "\n",
    "# \"x\" (Exclusive Creation Mode): This mode is used to create a new file, but it will fail if the file already exists. If the file does not exist, a new file is created.\n",
    "\n",
    "# \"b\" (Binary Mode): This mode is used to open a file in binary mode. It is used in conjunction with the other modes by adding it to the mode string. For example, \"rb\" is used to open a file in binary mode for reading.\n",
    "\n",
    "# \"t\" (Text Mode): This mode is used to open a file in text mode. It is the default mode for opening a file, so it is not usually necessary to specify it explicitly. However, it can be used in conjunction with the other modes by adding it to the mode string. For example, \"wt\" is used to open a file in text mode for writing.\n",
    "\n",
    "# \"+\" (Update Mode): This mode is used to open a file for both reading and writing. It can be used in conjunction with the other modes by adding it to the mode string. For example, \"r+\" is used to open a file in update mode for reading and writing"
   ]
  },
  {
   "cell_type": "code",
   "execution_count": 2,
   "id": "3c64a75e-99fd-4234-a2b9-dc180fea56c9",
   "metadata": {},
   "outputs": [],
   "source": [
    "#Q2. Why close() function is used? Why is it important to close a file?"
   ]
  },
  {
   "cell_type": "code",
   "execution_count": 3,
   "id": "5a07edb6-0cdd-4b5b-8243-fe4cd9e985f9",
   "metadata": {},
   "outputs": [],
   "source": [
    "#It is important to close a file after it has been opened to release resources, ensure data integrity, allow other programs to access the file, and avoid unexpected behavior. You can close a file in Python by calling the close() method on the file object."
   ]
  },
  {
   "cell_type": "code",
   "execution_count": 4,
   "id": "7b429a42-42ef-44d7-8ffc-955794a7358b",
   "metadata": {},
   "outputs": [],
   "source": [
    "# Q3. Write a python program to create a text file. Write ‘I want to become a Data Scientist’ in that file. Then\n",
    "# close the file. Open this file and read the content of the file."
   ]
  },
  {
   "cell_type": "code",
   "execution_count": 35,
   "id": "9327c020-398a-487d-9ea8-1815b62c351a",
   "metadata": {},
   "outputs": [],
   "source": [
    "file=open(\"file.txt\", \"w\")"
   ]
  },
  {
   "cell_type": "code",
   "execution_count": 36,
   "id": "97690fad-d04d-4792-9439-f8364bfc466c",
   "metadata": {},
   "outputs": [
    {
     "data": {
      "text/plain": [
       "32"
      ]
     },
     "execution_count": 36,
     "metadata": {},
     "output_type": "execute_result"
    }
   ],
   "source": [
    "file.write(\"i want to become a datascientist\")"
   ]
  },
  {
   "cell_type": "code",
   "execution_count": 37,
   "id": "8e5759e1-4e73-4810-aa0a-84037e24b311",
   "metadata": {},
   "outputs": [],
   "source": [
    "file.close()"
   ]
  },
  {
   "cell_type": "code",
   "execution_count": 1,
   "id": "a38bb976-735b-49e7-95c7-8ec70c77aef9",
   "metadata": {},
   "outputs": [],
   "source": [
    "#Q4. Explain the following with python code: read(), readline() and readlines()."
   ]
  },
  {
   "cell_type": "code",
   "execution_count": 2,
   "id": "0a34c825-c15a-4172-a8b2-2b04a3a3c739",
   "metadata": {},
   "outputs": [],
   "source": [
    "#read(): This method reads the entire contents of a file and returns it as a single string. \n",
    "#readline(): This method reads a single line from a file and returns it as a string.\n",
    "#readlines(): This method reads all the lines of a file and returns them as a list of strings"
   ]
  },
  {
   "cell_type": "code",
   "execution_count": 11,
   "id": "38723500-1e60-4dae-adec-4e5b13bd1617",
   "metadata": {},
   "outputs": [],
   "source": [
    "file=open(\"file.txt\", 'r')"
   ]
  },
  {
   "cell_type": "code",
   "execution_count": 18,
   "id": "98936e9d-cb13-441c-b052-de392e7ac115",
   "metadata": {},
   "outputs": [
    {
     "data": {
      "text/plain": [
       "'i want to become a datascientist\\ni am so great\\ni am so handsome'"
      ]
     },
     "execution_count": 18,
     "metadata": {},
     "output_type": "execute_result"
    }
   ],
   "source": [
    "file.read()"
   ]
  },
  {
   "cell_type": "code",
   "execution_count": 19,
   "id": "904bee0e-e50b-43e8-a4f9-3af5e61a2c43",
   "metadata": {},
   "outputs": [
    {
     "data": {
      "text/plain": [
       "0"
      ]
     },
     "execution_count": 19,
     "metadata": {},
     "output_type": "execute_result"
    }
   ],
   "source": [
    "file.seek(0)"
   ]
  },
  {
   "cell_type": "code",
   "execution_count": 20,
   "id": "73beb9ee-5431-456d-b9e5-25564251daf7",
   "metadata": {},
   "outputs": [
    {
     "data": {
      "text/plain": [
       "'i want to become a datascientist\\n'"
      ]
     },
     "execution_count": 20,
     "metadata": {},
     "output_type": "execute_result"
    }
   ],
   "source": [
    "file.readline()"
   ]
  },
  {
   "cell_type": "code",
   "execution_count": 21,
   "id": "cc784ef4-fef8-4f01-9f87-a812f766892f",
   "metadata": {},
   "outputs": [
    {
     "data": {
      "text/plain": [
       "0"
      ]
     },
     "execution_count": 21,
     "metadata": {},
     "output_type": "execute_result"
    }
   ],
   "source": [
    "file.seek(0)"
   ]
  },
  {
   "cell_type": "code",
   "execution_count": 22,
   "id": "405af976-41a7-423d-865f-6e77e51c2925",
   "metadata": {},
   "outputs": [
    {
     "data": {
      "text/plain": [
       "['i want to become a datascientist\\n', 'i am so great\\n', 'i am so handsome']"
      ]
     },
     "execution_count": 22,
     "metadata": {},
     "output_type": "execute_result"
    }
   ],
   "source": [
    "file.readlines()"
   ]
  },
  {
   "cell_type": "code",
   "execution_count": 28,
   "id": "965518ce-18a1-46c3-a264-d17c3dbcbede",
   "metadata": {},
   "outputs": [],
   "source": [
    "file.close()"
   ]
  },
  {
   "cell_type": "code",
   "execution_count": 29,
   "id": "9d313e66-f4d0-40b5-b3eb-fbf9088c57ea",
   "metadata": {},
   "outputs": [],
   "source": [
    "#Q5. Explain why with statement is used with open(). What is the advantage of using with statement and open() together?"
   ]
  },
  {
   "cell_type": "code",
   "execution_count": 30,
   "id": "ed4bc5ad-f04d-4d65-9607-bda6404cbc12",
   "metadata": {},
   "outputs": [],
   "source": [
    "#The with statement is used with the open() function to manage the file I/O operations. \n",
    "#It ensures that the file is automatically closed after the block of code using the file is executed\n",
    "\n",
    "#The advantage of using the with statement with open() is that it simplifies the code for managing files by \n",
    "#eliminating the need to explicitly close the file using the close() method"
   ]
  },
  {
   "cell_type": "code",
   "execution_count": 31,
   "id": "6823b213-d538-4509-adee-ca126133a9ff",
   "metadata": {},
   "outputs": [
    {
     "name": "stdout",
     "output_type": "stream",
     "text": [
      "i want to become a datascientist\n",
      "\n"
     ]
    }
   ],
   "source": [
    "with open(\"file.txt\", 'r') as file:\n",
    "    print(file.readline())"
   ]
  },
  {
   "cell_type": "code",
   "execution_count": 32,
   "id": "30676543-d889-48f5-bd59-c4124970bc6a",
   "metadata": {},
   "outputs": [],
   "source": [
    "#Q6. Explain the write() and writelines() functions. Give a suitable example."
   ]
  },
  {
   "cell_type": "code",
   "execution_count": 33,
   "id": "4ec56b64-24b7-4554-8905-ca25a46c1438",
   "metadata": {},
   "outputs": [],
   "source": [
    "#write(): This function writes a string of data to a file. It takes a single argument, which is the string to be written\n",
    "#writelines(): This function writes a list of strings to a file. Each string in the list is written to a separate line in the file."
   ]
  },
  {
   "cell_type": "code",
   "execution_count": 35,
   "id": "fd0397e3-b15b-4519-b538-c038fcdfe6a2",
   "metadata": {},
   "outputs": [],
   "source": [
    "file=open(\"file.txt\", 'w')"
   ]
  },
  {
   "cell_type": "code",
   "execution_count": 36,
   "id": "e73ce797-ca91-4942-b4ac-cc727eab0e15",
   "metadata": {},
   "outputs": [
    {
     "data": {
      "text/plain": [
       "3"
      ]
     },
     "execution_count": 36,
     "metadata": {},
     "output_type": "execute_result"
    }
   ],
   "source": [
    "file.write(\"hey\")"
   ]
  },
  {
   "cell_type": "code",
   "execution_count": 37,
   "id": "c413122c-1c6a-410a-ad1a-07276101a9a2",
   "metadata": {},
   "outputs": [],
   "source": [
    "file.writelines([\"hey\", \"hi\", \"hii\"]"
   ]
  },
  {
   "cell_type": "code",
   "execution_count": null,
   "id": "cdc75bed-396e-4638-9e6e-4a5a3aa9b42d",
   "metadata": {},
   "outputs": [],
   "source": []
  }
 ],
 "metadata": {
  "kernelspec": {
   "display_name": "Python 3 (ipykernel)",
   "language": "python",
   "name": "python3"
  },
  "language_info": {
   "codemirror_mode": {
    "name": "ipython",
    "version": 3
   },
   "file_extension": ".py",
   "mimetype": "text/x-python",
   "name": "python",
   "nbconvert_exporter": "python",
   "pygments_lexer": "ipython3",
   "version": "3.10.8"
  }
 },
 "nbformat": 4,
 "nbformat_minor": 5
}
