{
 "cells": [
  {
   "cell_type": "code",
   "execution_count": 11,
   "id": "a7d232db-ef88-4232-b9fb-bcbd04d1a497",
   "metadata": {},
   "outputs": [],
   "source": [
    "# Q1. You are writing code for a company. The requirement of the company is that you create a python\n",
    "# function that will check whether the password entered by the user is correct or not. The function should\n",
    "# take the password as input and return the string “Valid Password” if the entered password follows the\n",
    "# below-given password guidelines else it should return “Invalid Password”.\n",
    "\n",
    "# Note: 1. The Password should contain at least two uppercase letters and at least two lowercase letters.\n",
    "# 2. The Password should contain at least a number and three special characters.\n",
    "# 3. The length of the password should be 10 characters long."
   ]
  },
  {
   "cell_type": "code",
   "execution_count": 71,
   "id": "d133c0ba-adf2-437c-b487-f2c480bbcb69",
   "metadata": {},
   "outputs": [],
   "source": [
    "def check_pass(Password):\n",
    "    flag,k,a,b=0,0,0,0\n",
    "    for i in Password:\n",
    "        if i==i.upper():\n",
    "            flag=flag+1\n",
    "        if i>='' and i<='z':\n",
    "            k=k+1\n",
    "        if i=='@' or i==\"_\" or i==\"$\":\n",
    "            a=a+1\n",
    "    if len(Password)==10:\n",
    "            b=b+1\n",
    "    if flag>1 and k>0 and a>2 and b>0:\n",
    "        print(\"password is valid\")\n",
    "    else:\n",
    "        print(\"password is not valid\")"
   ]
  },
  {
   "cell_type": "code",
   "execution_count": 72,
   "id": "8bd18449-8d37-4887-b604-c06acfb582a4",
   "metadata": {},
   "outputs": [
    {
     "ename": "ValueError",
     "evalue": "invalid literal for int() with base 10: 'A'",
     "output_type": "error",
     "traceback": [
      "\u001b[0;31m---------------------------------------------------------------------------\u001b[0m",
      "\u001b[0;31mValueError\u001b[0m                                Traceback (most recent call last)",
      "Cell \u001b[0;32mIn[72], line 1\u001b[0m\n\u001b[0;32m----> 1\u001b[0m \u001b[43mcheck_pass\u001b[49m\u001b[43m(\u001b[49m\u001b[38;5;124;43m\"\u001b[39;49m\u001b[38;5;124;43mAryan\u001b[39;49m\u001b[38;5;124;43m\"\u001b[39;49m\u001b[43m)\u001b[49m\n",
      "Cell \u001b[0;32mIn[71], line 6\u001b[0m, in \u001b[0;36mcheck_pass\u001b[0;34m(Password)\u001b[0m\n\u001b[1;32m      4\u001b[0m \u001b[38;5;28;01mif\u001b[39;00m i\u001b[38;5;241m==\u001b[39mi\u001b[38;5;241m.\u001b[39mupper():\n\u001b[1;32m      5\u001b[0m     flag\u001b[38;5;241m=\u001b[39mflag\u001b[38;5;241m+\u001b[39m\u001b[38;5;241m1\u001b[39m\n\u001b[0;32m----> 6\u001b[0m \u001b[38;5;28;01mif\u001b[39;00m \u001b[38;5;28;43mint\u001b[39;49m\u001b[43m(\u001b[49m\u001b[43mi\u001b[49m\u001b[43m)\u001b[49m\u001b[38;5;241m==\u001b[39m\u001b[38;5;28;01mTrue\u001b[39;00m:\n\u001b[1;32m      7\u001b[0m     k\u001b[38;5;241m=\u001b[39mk\u001b[38;5;241m+\u001b[39m\u001b[38;5;241m1\u001b[39m\n\u001b[1;32m      8\u001b[0m \u001b[38;5;28;01mif\u001b[39;00m i\u001b[38;5;241m==\u001b[39m\u001b[38;5;124m'\u001b[39m\u001b[38;5;124m@\u001b[39m\u001b[38;5;124m'\u001b[39m \u001b[38;5;129;01mor\u001b[39;00m i\u001b[38;5;241m==\u001b[39m\u001b[38;5;124m\"\u001b[39m\u001b[38;5;124m_\u001b[39m\u001b[38;5;124m\"\u001b[39m \u001b[38;5;129;01mor\u001b[39;00m i\u001b[38;5;241m==\u001b[39m\u001b[38;5;124m\"\u001b[39m\u001b[38;5;124m$\u001b[39m\u001b[38;5;124m\"\u001b[39m:\n",
      "\u001b[0;31mValueError\u001b[0m: invalid literal for int() with base 10: 'A'"
     ]
    }
   ],
   "source": [
    "check_pass(\"Aryan\")"
   ]
  },
  {
   "cell_type": "code",
   "execution_count": 70,
   "id": "44727d85-24b5-4cca-b376-702b2e41e84c",
   "metadata": {},
   "outputs": [
    {
     "name": "stdout",
     "output_type": "stream",
     "text": [
      "password is not valid\n"
     ]
    }
   ],
   "source": [
    "check_pass(\"ARya556_@$\")"
   ]
  },
  {
   "cell_type": "code",
   "execution_count": 51,
   "id": "7107276c-bba2-40fa-8ead-4653356c98bc",
   "metadata": {},
   "outputs": [],
   "source": [
    "# Q2. Solve the below-given questions using at least one of the following:\n",
    "# 1. Lambda functioJ\n",
    "# 2. Filter functioJ\n",
    "# 3. Zap functioJ\n",
    "# 4. List ComprehensioI\n",
    "# B Check if the string starts with a particular letterY\n",
    "# B Check if the string is numericY\n",
    "# B Sort a list of tuples having fruit names and their quantity. \n",
    "jk=[(\"mango\",99),(\"orange\",80), (\"grapes\", 1000)]\n",
    "# B Find the squares of numbers from 1 to 10Y\n",
    "# B Find the cube root of numbers from 1 to 10Y\n",
    "# B Check if a given number is evenY\n",
    "# B Filter odd numbers from the given list.\n",
    "k=[1,2,3,4,5,6,7,8,9,10]\n",
    "# B Sort a list of integers into positive and negative integers lists.\n",
    "m= [1,2,3,4,5,6,-1,-2,-3,-4,-5,0]"
   ]
  },
  {
   "cell_type": "code",
   "execution_count": 52,
   "id": "839a7036-cac9-4a6f-8759-01c1bf8ba2a0",
   "metadata": {},
   "outputs": [
    {
     "name": "stdout",
     "output_type": "stream",
     "text": [
      "yes\n"
     ]
    },
    {
     "data": {
      "text/plain": [
       "[None]"
      ]
     },
     "execution_count": 52,
     "metadata": {},
     "output_type": "execute_result"
    }
   ],
   "source": [
    "s=\"Aryan\"\n",
    "[print(\"yes\") for i in s if i=='A']"
   ]
  },
  {
   "cell_type": "code",
   "execution_count": 53,
   "id": "cd460d2b-cd98-46a2-aac0-1c23d0df2688",
   "metadata": {},
   "outputs": [
    {
     "name": "stdout",
     "output_type": "stream",
     "text": [
      "yes\n"
     ]
    }
   ],
   "source": [
    "s1=\"12345\"\n",
    "for i in s1:\n",
    "    if int(i)==True:\n",
    "        print(\"yes\")"
   ]
  },
  {
   "cell_type": "code",
   "execution_count": 54,
   "id": "03ffc67d-6633-4465-9da0-f2c0148b4539",
   "metadata": {},
   "outputs": [],
   "source": [
    "jk=[(\"mango\",99),(\"orange\",80), (\"grapes\", 1000)]"
   ]
  },
  {
   "cell_type": "code",
   "execution_count": 55,
   "id": "d6131129-69a6-46ca-8130-917f72bfc348",
   "metadata": {},
   "outputs": [],
   "source": [
    "jk.sort()"
   ]
  },
  {
   "cell_type": "code",
   "execution_count": 56,
   "id": "e5bd5325-09dd-4a4f-93c5-edc9e28fb12b",
   "metadata": {},
   "outputs": [
    {
     "data": {
      "text/plain": [
       "[('grapes', 1000), ('mango', 99), ('orange', 80)]"
      ]
     },
     "execution_count": 56,
     "metadata": {},
     "output_type": "execute_result"
    }
   ],
   "source": [
    "jk"
   ]
  },
  {
   "cell_type": "code",
   "execution_count": 57,
   "id": "2ffc8a25-65c8-420c-a6b5-6e12cff2667f",
   "metadata": {},
   "outputs": [
    {
     "data": {
      "text/plain": [
       "[1, 4, 9, 16, 25, 36, 49, 64, 81, 100]"
      ]
     },
     "execution_count": 57,
     "metadata": {},
     "output_type": "execute_result"
    }
   ],
   "source": [
    "[i**2 for i in range(1,11)] "
   ]
  },
  {
   "cell_type": "code",
   "execution_count": 58,
   "id": "bb396e34-53a8-4d6d-9ea1-c74670becd9c",
   "metadata": {},
   "outputs": [
    {
     "data": {
      "text/plain": [
       "[1.0,\n",
       " 1.2599210498948732,\n",
       " 1.4422495703074083,\n",
       " 1.5874010519681994,\n",
       " 1.7099759466766968,\n",
       " 1.8171205928321397,\n",
       " 1.912931182772389,\n",
       " 2.0,\n",
       " 2.080083823051904,\n",
       " 2.154434690031884]"
      ]
     },
     "execution_count": 58,
     "metadata": {},
     "output_type": "execute_result"
    }
   ],
   "source": [
    "[i**(1/3) for i in range(1,11)]"
   ]
  },
  {
   "cell_type": "code",
   "execution_count": 60,
   "id": "018c468f-ae17-430a-9890-4f5b85fc1258",
   "metadata": {},
   "outputs": [
    {
     "name": "stdin",
     "output_type": "stream",
     "text": [
      "enter number 5\n"
     ]
    },
    {
     "name": "stdout",
     "output_type": "stream",
     "text": [
      "no\n"
     ]
    },
    {
     "data": {
      "text/plain": [
       "[None]"
      ]
     },
     "execution_count": 60,
     "metadata": {},
     "output_type": "execute_result"
    }
   ],
   "source": [
    "s=int(input(\"enter number\"))\n",
    "[s if s%2==0 else print(\"no\")]"
   ]
  },
  {
   "cell_type": "code",
   "execution_count": 61,
   "id": "fe67d292-bc7b-4a85-82bf-e11051846a9c",
   "metadata": {},
   "outputs": [
    {
     "data": {
      "text/plain": [
       "[1, 3, 5, 7, 9]"
      ]
     },
     "execution_count": 61,
     "metadata": {},
     "output_type": "execute_result"
    }
   ],
   "source": [
    "[i for i in k if i%2!=0]"
   ]
  },
  {
   "cell_type": "code",
   "execution_count": 62,
   "id": "a77f3efd-818e-47b5-98c6-421af2e7e0dd",
   "metadata": {},
   "outputs": [],
   "source": [
    "m.sort()"
   ]
  },
  {
   "cell_type": "code",
   "execution_count": 63,
   "id": "b30a8732-3217-49fc-8878-2a80c4695799",
   "metadata": {},
   "outputs": [
    {
     "data": {
      "text/plain": [
       "[-5, -4, -3, -2, -1, 0, 1, 2, 3, 4, 5, 6]"
      ]
     },
     "execution_count": 63,
     "metadata": {},
     "output_type": "execute_result"
    }
   ],
   "source": [
    "m"
   ]
  },
  {
   "cell_type": "code",
   "execution_count": 64,
   "id": "c3310ea7-02a8-4aea-a165-8819edbfb6ec",
   "metadata": {},
   "outputs": [
    {
     "data": {
      "text/plain": [
       "[-5, -4, -3, -2, -1, 0]"
      ]
     },
     "execution_count": 64,
     "metadata": {},
     "output_type": "execute_result"
    }
   ],
   "source": [
    "[i for i in m if i<=0]"
   ]
  },
  {
   "cell_type": "code",
   "execution_count": 65,
   "id": "5902ccc2-280c-4771-a403-eecf4762fdce",
   "metadata": {},
   "outputs": [
    {
     "data": {
      "text/plain": [
       "[1, 2, 3, 4, 5, 6]"
      ]
     },
     "execution_count": 65,
     "metadata": {},
     "output_type": "execute_result"
    }
   ],
   "source": [
    "[i for i in m if i>0]"
   ]
  }
 ],
 "metadata": {
  "kernelspec": {
   "display_name": "Python 3 (ipykernel)",
   "language": "python",
   "name": "python3"
  },
  "language_info": {
   "codemirror_mode": {
    "name": "ipython",
    "version": 3
   },
   "file_extension": ".py",
   "mimetype": "text/x-python",
   "name": "python",
   "nbconvert_exporter": "python",
   "pygments_lexer": "ipython3",
   "version": "3.10.8"
  }
 },
 "nbformat": 4,
 "nbformat_minor": 5
}
