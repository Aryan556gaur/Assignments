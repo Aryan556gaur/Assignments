{
 "cells": [
  {
   "cell_type": "code",
   "execution_count": null,
   "id": "d7b08c36-98c0-402e-bfd3-226cd9ad23e3",
   "metadata": {},
   "outputs": [],
   "source": [
    "#Q1. What is a database? Differentiate between SQL and NoSQL databases."
   ]
  },
  {
   "cell_type": "code",
   "execution_count": 1,
   "id": "8f2bf63f-a920-4544-81ae-a72bac694a17",
   "metadata": {},
   "outputs": [],
   "source": [
    "# A database is a structured collection of data that is organized and managed to allow easy access, retrieval, and manipulation.\n",
    "\n",
    "# SQL databases are based on a relational model and use structured query language (SQL) to manage data. \n",
    "# SQL databases store data in tables, with each table having a specific schema defining the fields and their types\n",
    "\n",
    "# NoSQL databases are designed to be more flexible and scalable, allowing for the storage and retrieval of unstructured data\n",
    "# NoSQL databases are designed for unstructured and semi-structured data"
   ]
  },
  {
   "cell_type": "code",
   "execution_count": 2,
   "id": "087df449-d9f1-4518-ab4c-918ff034bb7d",
   "metadata": {},
   "outputs": [],
   "source": [
    "# Q2. What is DDL? Explain why CREATE, DROP, ALTER, and TRUNCATE are used with an example."
   ]
  },
  {
   "cell_type": "code",
   "execution_count": 3,
   "id": "f648eee4-2ca5-426d-9a88-73b7e6c3ae8e",
   "metadata": {},
   "outputs": [],
   "source": [
    "# DDL stands for Data Definition Language, which is a subset of SQL used to define the structure and schema of a database.\n",
    "\n",
    "# CREATE: The CREATE command is used to create new database objects, such as tables, indexes, and views.\n",
    "\n",
    "# CREATE TABLE customers (\n",
    "#   customer_id INT PRIMARY KEY,\n",
    "#   customer_name VARCHAR(50),\n",
    "#   customer_email VARCHAR(100)\n",
    "# );\n",
    "\n",
    "# DROP: The DROP command is used to remove a database object, such as a table, index, or view, from the database.\n",
    "\n",
    "# DROP TABLE customers;\n",
    "\n",
    "# ALTER: The ALTER command is used to modify the structure of an existing database object, such as a table or a column.\n",
    "\n",
    "# ALTER TABLE customers\n",
    "# ADD COLUMN customer_phone VARCHAR(20);\n",
    "\n",
    "# TRUNCATE: The TRUNCATE command is used to delete all data from a table without deleting the table structure.\n",
    "\n",
    "# TRUNCATE TABLE customers;"
   ]
  },
  {
   "cell_type": "code",
   "execution_count": 4,
   "id": "c379aecb-6694-4f30-846b-ef49acdc4320",
   "metadata": {},
   "outputs": [],
   "source": [
    "# Q3. What is DML? Explain INSERT, UPDATE, and DELETE with an example."
   ]
  },
  {
   "cell_type": "code",
   "execution_count": 5,
   "id": "425dd2d4-ca71-40af-8d1f-d21ff2787edd",
   "metadata": {},
   "outputs": [],
   "source": [
    "# DML stands for Data Manipulation Language, which is a subset of SQL (Structured Query Language) used to manipulate data in a database\n",
    "\n",
    "# 1.  INSERT: The INSERT statement is used to add new records (rows) to a database table.\n",
    "\n",
    "#     INSERT INTO table_name (column1, column2, column3, ...)\n",
    "#     VALUES (value1, value2, value3, ...);\n",
    "\n",
    "#     INSERT INTO students (id, name, age)\n",
    "#     VALUES (100, 'John', 21);\n",
    "\n",
    "# 2.  UPDATE: The UPDATE statement is used to modify existing records (rows) in a database table.\n",
    "\n",
    "#     UPDATE table_name\n",
    "#     SET column1 = value1, column2 = value2, ...\n",
    "#     WHERE condition;\n",
    "\n",
    "#     UPDATE students\n",
    "#     SET age = 22\n",
    "#     WHERE id = 100;\n",
    "\n",
    "# 3.  DELETE: The DELETE statement is used to delete records (rows) from a database table.\n",
    "\n",
    "#     DELETE FROM table_name\n",
    "#     WHERE condition;\n",
    "\n",
    "#     DELETE FROM students\n",
    "#     WHERE id = 100"
   ]
  },
  {
   "cell_type": "code",
   "execution_count": 6,
   "id": "02c2e879-5b2e-4dc6-8727-ccd22bb84ed4",
   "metadata": {},
   "outputs": [],
   "source": [
    "# Q4. What is DQL? Explain SELECT with an example."
   ]
  },
  {
   "cell_type": "code",
   "execution_count": 7,
   "id": "f187f772-fca8-4f84-9902-4dd11ab91b59",
   "metadata": {},
   "outputs": [],
   "source": [
    "# DQL stands for Data Query Language, which is a subset of SQL (Structured Query Language) used to retrieve data from a database. \n",
    "# DQL statements are used to query data from one or more tables in a database.\n",
    "\n",
    "# SELECT: The SELECT statement is used to retrieve data from one or more tables in a database.\n",
    "\n",
    "# SELECT column1, column2, ...\n",
    "# FROM table_name\n",
    "# WHERE condition;\n",
    "\n",
    "# SELECT name, salary\n",
    "# FROM employees\n",
    "# WHERE age > 30;"
   ]
  },
  {
   "cell_type": "code",
   "execution_count": 8,
   "id": "28004008-371a-477b-b9c5-2252cf476853",
   "metadata": {},
   "outputs": [],
   "source": [
    "# Q5. Explain Primary Key and Foreign Key."
   ]
  },
  {
   "cell_type": "code",
   "execution_count": 9,
   "id": "804d70e6-3cca-428a-b6a9-2d2bca631a7f",
   "metadata": {},
   "outputs": [],
   "source": [
    "# Primary Key: A primary key is a unique identifier for a record in a database table. It is a column or set of columns that uniquely identifies each record in a table.\n",
    "\n",
    "# Foreign Key: A foreign key is a field or set of fields in one table that refers to the primary key of another table. It is used to establish a link or relationship between two tables."
   ]
  },
  {
   "cell_type": "code",
   "execution_count": 10,
   "id": "8fe7662a-ab9c-406c-a96d-3c408215d9a7",
   "metadata": {},
   "outputs": [],
   "source": [
    "# Q6. Write a python code to connect MySQL to python. Explain the cursor() and execute() method."
   ]
  },
  {
   "cell_type": "code",
   "execution_count": 11,
   "id": "a4ef75cf-1a81-4eb9-a366-d875efee1a66",
   "metadata": {},
   "outputs": [],
   "source": [
    "# import mysql.connector\n",
    "# mydb=mysql.connector.connect(\n",
    "#     host=\"localhost\",\n",
    "#     user=\"abc\",\n",
    "#     password=\"password\"\n",
    "# )\n",
    "# mycursor=mydb.cursor()\n",
    "# mycursor.execute(\"Enter here\")\n",
    "\n",
    "# The \"cursor()\" method creates a cursor object that is used to execute SQL queries and fetch the results. \n",
    "# It provides methods like execute(), fetchone(), and fetchall() to interact with the database.\n",
    "\n",
    "# The \"execute()\" method is used to execute a SQL query on the database. It takes a string parameter that contains the SQL query.\n",
    "# The method returns the number of rows affected by the query."
   ]
  },
  {
   "cell_type": "code",
   "execution_count": 12,
   "id": "55617213-77b2-4f8b-95cc-429d087431f5",
   "metadata": {},
   "outputs": [],
   "source": [
    "# Q7. Give the order of execution of SQL clauses in an SQL query."
   ]
  },
  {
   "cell_type": "code",
   "execution_count": null,
   "id": "085eee61-b01d-4e62-b245-818d25bdf4f5",
   "metadata": {},
   "outputs": [],
   "source": [
    "# In an SQL query, the clauses are executed in the following order:\n",
    "\n",
    "# FROM: The FROM clause specifies the table or tables from which to retrieve data.\n",
    "\n",
    "# WHERE: The WHERE clause is used to filter the rows returned by the query. It specifies the conditions that must be met for a row to be included in the result set.\n",
    "\n",
    "# GROUP BY: The GROUP BY clause is used to group the rows returned by the query based on one or more columns.\n",
    "\n",
    "# HAVING: The HAVING clause is used to filter the groups created by the GROUP BY clause. It specifies the conditions that must be met for a group to be included in the result set.\n",
    "\n",
    "# SELECT: The SELECT clause is used to specify the columns to be included in the result set.\n",
    "\n",
    "# ORDER BY: The ORDER BY clause is used to sort the rows in the result set based on one or more columns.\n",
    "\n",
    "# LIMIT: The LIMIT clause is used to limit the number of rows returned by the query."
   ]
  }
 ],
 "metadata": {
  "kernelspec": {
   "display_name": "Python 3 (ipykernel)",
   "language": "python",
   "name": "python3"
  },
  "language_info": {
   "codemirror_mode": {
    "name": "ipython",
    "version": 3
   },
   "file_extension": ".py",
   "mimetype": "text/x-python",
   "name": "python",
   "nbconvert_exporter": "python",
   "pygments_lexer": "ipython3",
   "version": "3.10.8"
  }
 },
 "nbformat": 4,
 "nbformat_minor": 5
}
