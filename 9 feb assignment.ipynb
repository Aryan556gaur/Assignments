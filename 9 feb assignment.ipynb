{
 "cells": [
  {
   "cell_type": "code",
   "execution_count": 1,
   "id": "fa2be823-f6a5-474a-a118-b33c6a3be4b5",
   "metadata": {},
   "outputs": [],
   "source": [
    "# Q1, Create a vehicle class with an init method having instance variables as name_of_vehicle, max_speed\n",
    "# and average_of_vehicle."
   ]
  },
  {
   "cell_type": "code",
   "execution_count": 52,
   "id": "df14d39c-3081-411e-b8ba-777aac80076a",
   "metadata": {},
   "outputs": [],
   "source": [
    "class vehicle:\n",
    "    def __init__(self, name_of_vehicle, max_speed, average_of_vehicle):\n",
    "        self.name_of_vehicle=name_of_vehicle\n",
    "        self.max_speed=max_speed\n",
    "        self.average_of_vehicle=average_of_vehicle\n",
    "    def return_details(self):\n",
    "        return self.name_of_vehicle, self.max_speed, self.average_of_vehicle"
   ]
  },
  {
   "cell_type": "code",
   "execution_count": 53,
   "id": "e674e385-ed9c-4705-8812-ba279ade1b15",
   "metadata": {},
   "outputs": [],
   "source": [
    "h=vehicle(\"wagon R\", 180, 70)"
   ]
  },
  {
   "cell_type": "code",
   "execution_count": 54,
   "id": "ec8e9934-6979-4baa-8cb4-ecfa35532ae2",
   "metadata": {},
   "outputs": [
    {
     "data": {
      "text/plain": [
       "('wagon R', 180, 70)"
      ]
     },
     "execution_count": 54,
     "metadata": {},
     "output_type": "execute_result"
    }
   ],
   "source": [
    "h.return_details()"
   ]
  },
  {
   "cell_type": "code",
   "execution_count": 55,
   "id": "71defc0b-634d-4153-bcec-d453dea972c5",
   "metadata": {},
   "outputs": [],
   "source": [
    "# Q2. Create a child class car from the vehicle class created in Que 1, which will inherit the vehicle class.\n",
    "# Create a method named seating_capacity which takes capacity as an argument and returns the name of\n",
    "# the vehicle and its seating capacity."
   ]
  },
  {
   "cell_type": "code",
   "execution_count": 90,
   "id": "39b99b7d-43cf-42fe-ab7c-f7aa1192d202",
   "metadata": {},
   "outputs": [],
   "source": [
    "class car(vehicle):\n",
    "    \n",
    "    def __init__(self,name_of_vehicle, max_speed, average_of_vehicle, capacity):\n",
    "        self.capacity=capacity\n",
    "        \n",
    "        vehicle.__init__(self, name_of_vehicle, max_speed, average_of_vehicle)\n",
    "        \n",
    "    def return_d1(self):\n",
    "         print(\"vehicle\", self.name_of_vehicle,\"seating capacity is\", self.capacity)"
   ]
  },
  {
   "cell_type": "code",
   "execution_count": 91,
   "id": "a9710083-831e-42b3-8aff-297bd24fa547",
   "metadata": {},
   "outputs": [],
   "source": [
    "bike=car(\"wagor R\", 180, 70, 5)"
   ]
  },
  {
   "cell_type": "code",
   "execution_count": 92,
   "id": "a5b10d4a-164d-4512-9d6f-c3f98b377982",
   "metadata": {},
   "outputs": [
    {
     "name": "stdout",
     "output_type": "stream",
     "text": [
      "vehicle wagor R seating capacity is 5\n"
     ]
    }
   ],
   "source": [
    "bike.return_d1()"
   ]
  },
  {
   "cell_type": "code",
   "execution_count": 102,
   "id": "4a77677e-18e0-4f98-8994-3e7bb643dc73",
   "metadata": {},
   "outputs": [],
   "source": [
    "#Q3. What is multiple inheritance? Write a python code to demonstrate multiple inheritance."
   ]
  },
  {
   "cell_type": "code",
   "execution_count": 95,
   "id": "2481970e-6623-4e3b-9689-9560f36d6310",
   "metadata": {},
   "outputs": [],
   "source": [
    "class class1:\n",
    "    def test(self):\n",
    "        print(\"first class\")"
   ]
  },
  {
   "cell_type": "code",
   "execution_count": 96,
   "id": "24cfb1dd-d953-40e0-a3e3-3d7789f0d0a4",
   "metadata": {},
   "outputs": [],
   "source": [
    "class class2:\n",
    "    def test1(self):\n",
    "        print(\"second class\")"
   ]
  },
  {
   "cell_type": "code",
   "execution_count": 98,
   "id": "82f43eaa-f608-44fc-beec-8788ff7b0756",
   "metadata": {},
   "outputs": [],
   "source": [
    "class class3(class1, class2):\n",
    "    pass"
   ]
  },
  {
   "cell_type": "code",
   "execution_count": 99,
   "id": "08b2dded-a6c8-4455-a770-9d48c4fb7108",
   "metadata": {},
   "outputs": [],
   "source": [
    "obj_class3=class3()"
   ]
  },
  {
   "cell_type": "code",
   "execution_count": 100,
   "id": "121f7754-672f-4513-a315-f40a0ec16d29",
   "metadata": {},
   "outputs": [
    {
     "name": "stdout",
     "output_type": "stream",
     "text": [
      "first class\n"
     ]
    }
   ],
   "source": [
    "obj_class3.test()"
   ]
  },
  {
   "cell_type": "code",
   "execution_count": 101,
   "id": "036312f3-f524-4ba1-bc26-6118e4f238da",
   "metadata": {},
   "outputs": [
    {
     "name": "stdout",
     "output_type": "stream",
     "text": [
      "second class\n"
     ]
    }
   ],
   "source": [
    "obj_class3.test1()"
   ]
  },
  {
   "cell_type": "code",
   "execution_count": 103,
   "id": "04378f2f-0b04-4597-97cd-45e01a0ffb24",
   "metadata": {},
   "outputs": [],
   "source": [
    "#Q4. What are getter and setter in python? Create a class and create a getter and a setter method in this class."
   ]
  },
  {
   "cell_type": "code",
   "execution_count": 125,
   "id": "dc0222b0-6e23-4670-99c3-219bfac2ffb6",
   "metadata": {},
   "outputs": [],
   "source": [
    "class a:\n",
    "    def __init__(self, name, age):\n",
    "        self.name=name\n",
    "        self.age=age\n",
    "        \n",
    "    def setter(self, name1, age1):\n",
    "        self.name=name1\n",
    "        self.age=age1\n",
    "    \n",
    "    def getter(self):\n",
    "        return self.name, self.age"
   ]
  },
  {
   "cell_type": "code",
   "execution_count": 126,
   "id": "66472900-8b62-4810-a0bb-cde17d74ac8c",
   "metadata": {},
   "outputs": [],
   "source": [
    "obj=a(\"aryan\", 19)"
   ]
  },
  {
   "cell_type": "code",
   "execution_count": 127,
   "id": "a0c9a028-746b-42b6-9aef-f0c53768eef8",
   "metadata": {},
   "outputs": [
    {
     "data": {
      "text/plain": [
       "('aryan', 19)"
      ]
     },
     "execution_count": 127,
     "metadata": {},
     "output_type": "execute_result"
    }
   ],
   "source": [
    "obj.getter()"
   ]
  },
  {
   "cell_type": "code",
   "execution_count": 128,
   "id": "27308a82-3931-49c8-85cc-3479a23d01f4",
   "metadata": {},
   "outputs": [],
   "source": [
    "obj.setter(\"gaur\", 20)"
   ]
  },
  {
   "cell_type": "code",
   "execution_count": 129,
   "id": "bd6d1c90-15a7-432f-9829-ed4171dd7f5d",
   "metadata": {},
   "outputs": [
    {
     "data": {
      "text/plain": [
       "('gaur', 20)"
      ]
     },
     "execution_count": 129,
     "metadata": {},
     "output_type": "execute_result"
    }
   ],
   "source": [
    "obj.getter()"
   ]
  },
  {
   "cell_type": "code",
   "execution_count": null,
   "id": "626a815a-3800-4a96-a6eb-65e2d0505b6b",
   "metadata": {},
   "outputs": [],
   "source": [
    "#Q5.What is method overriding in python? Write a python code to demonstrate method overriding."
   ]
  },
  {
   "cell_type": "code",
   "execution_count": null,
   "id": "f4f87249-9951-4390-8b65-e2fe0990b397",
   "metadata": {},
   "outputs": [],
   "source": [
    "class Parent():\n",
    "      \n",
    "    def __init__(self):\n",
    "        self.value = \"Inside Parent\"\n",
    "          \n",
    "    # Parent's show method\n",
    "    def show(self):\n",
    "        print(self.value)\n",
    "          \n",
    "class Child(Parent):\n",
    "      \n",
    "    def __init__(self):\n",
    "        self.value = \"Inside Child\"\n",
    "          \n",
    "    def show(self):\n",
    "        print(self.value)"
   ]
  },
  {
   "cell_type": "code",
   "execution_count": null,
   "id": "7fb961cd-4bc9-4254-96fa-5d70a25617a9",
   "metadata": {},
   "outputs": [],
   "source": [
    "obj1 = Parent()"
   ]
  },
  {
   "cell_type": "code",
   "execution_count": null,
   "id": "11c3e64c-8d54-46f0-a000-daed66f97eb1",
   "metadata": {},
   "outputs": [],
   "source": [
    "obj1.show()"
   ]
  },
  {
   "cell_type": "code",
   "execution_count": null,
   "id": "9ff24d76-64ea-4264-a152-2b6cae74e25f",
   "metadata": {},
   "outputs": [],
   "source": [
    "obj2 = Child()"
   ]
  },
  {
   "cell_type": "code",
   "execution_count": null,
   "id": "ab7ba865-778a-4db4-b377-2d4bb76a4e40",
   "metadata": {},
   "outputs": [],
   "source": [
    "obj2.show()"
   ]
  },
  {
   "cell_type": "code",
   "execution_count": null,
   "id": "9ce58684-447f-47f5-91db-ac495f7554ea",
   "metadata": {},
   "outputs": [],
   "source": [
    "print(\"hell\")"
   ]
  },
  {
   "cell_type": "code",
   "execution_count": null,
   "id": "accf9bf3-1f89-4c3b-a5ec-b66c38f624a6",
   "metadata": {},
   "outputs": [],
   "source": []
  }
 ],
 "metadata": {
  "kernelspec": {
   "display_name": "Python 3 (ipykernel)",
   "language": "python",
   "name": "python3"
  },
  "language_info": {
   "codemirror_mode": {
    "name": "ipython",
    "version": 3
   },
   "file_extension": ".py",
   "mimetype": "text/x-python",
   "name": "python",
   "nbconvert_exporter": "python",
   "pygments_lexer": "ipython3",
   "version": "3.10.8"
  }
 },
 "nbformat": 4,
 "nbformat_minor": 5
}
